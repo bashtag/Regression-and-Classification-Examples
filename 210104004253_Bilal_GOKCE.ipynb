{
 "cells": [
  {
   "cell_type": "code",
   "execution_count": 17,
   "metadata": {},
   "outputs": [],
   "source": [
    "from ucimlrepo import fetch_ucirepo \n",
    "\n",
    "# fetch datasets\n",
    "breast_cancer_wisconsin_diagnostic = fetch_ucirepo(id=17) \n",
    "bike_sharing = fetch_ucirepo(id=275)"
   ]
  },
  {
   "cell_type": "code",
   "execution_count": 26,
   "metadata": {},
   "outputs": [
    {
     "data": {
      "text/html": [
       "<div>\n",
       "<style scoped>\n",
       "    .dataframe tbody tr th:only-of-type {\n",
       "        vertical-align: middle;\n",
       "    }\n",
       "\n",
       "    .dataframe tbody tr th {\n",
       "        vertical-align: top;\n",
       "    }\n",
       "\n",
       "    .dataframe thead th {\n",
       "        text-align: right;\n",
       "    }\n",
       "</style>\n",
       "<table border=\"1\" class=\"dataframe\">\n",
       "  <thead>\n",
       "    <tr style=\"text-align: right;\">\n",
       "      <th></th>\n",
       "      <th>Diagnosis</th>\n",
       "    </tr>\n",
       "  </thead>\n",
       "  <tbody>\n",
       "    <tr>\n",
       "      <th>0</th>\n",
       "      <td>M</td>\n",
       "    </tr>\n",
       "    <tr>\n",
       "      <th>1</th>\n",
       "      <td>M</td>\n",
       "    </tr>\n",
       "    <tr>\n",
       "      <th>2</th>\n",
       "      <td>M</td>\n",
       "    </tr>\n",
       "    <tr>\n",
       "      <th>3</th>\n",
       "      <td>M</td>\n",
       "    </tr>\n",
       "    <tr>\n",
       "      <th>4</th>\n",
       "      <td>M</td>\n",
       "    </tr>\n",
       "    <tr>\n",
       "      <th>...</th>\n",
       "      <td>...</td>\n",
       "    </tr>\n",
       "    <tr>\n",
       "      <th>564</th>\n",
       "      <td>M</td>\n",
       "    </tr>\n",
       "    <tr>\n",
       "      <th>565</th>\n",
       "      <td>M</td>\n",
       "    </tr>\n",
       "    <tr>\n",
       "      <th>566</th>\n",
       "      <td>M</td>\n",
       "    </tr>\n",
       "    <tr>\n",
       "      <th>567</th>\n",
       "      <td>M</td>\n",
       "    </tr>\n",
       "    <tr>\n",
       "      <th>568</th>\n",
       "      <td>B</td>\n",
       "    </tr>\n",
       "  </tbody>\n",
       "</table>\n",
       "<p>569 rows × 1 columns</p>\n",
       "</div>"
      ],
      "text/plain": [
       "    Diagnosis\n",
       "0           M\n",
       "1           M\n",
       "2           M\n",
       "3           M\n",
       "4           M\n",
       "..        ...\n",
       "564         M\n",
       "565         M\n",
       "566         M\n",
       "567         M\n",
       "568         B\n",
       "\n",
       "[569 rows x 1 columns]"
      ]
     },
     "execution_count": 26,
     "metadata": {},
     "output_type": "execute_result"
    }
   ],
   "source": [
    "breast_cancer_wisconsin_diagnostic.data.features"
   ]
  },
  {
   "cell_type": "markdown",
   "metadata": {},
   "source": [
    "# Part 1"
   ]
  },
  {
   "cell_type": "markdown",
   "metadata": {},
   "source": [
    "#### Code:"
   ]
  },
  {
   "cell_type": "code",
   "execution_count": 9,
   "metadata": {},
   "outputs": [],
   "source": [
    "# KNN\n",
    "\n",
    "def knn_classifier_with_euclidian_distance(train_data: {}, test_data: {}, k: int):\n",
    "\tif k < 1:\n",
    "\t\traise ValueError(\"k must be greater than 0\")\n",
    "\t\n",
    "\tif len(train_data) == 0:\n",
    "\t\traise ValueError(\"train_data must not be empty\")\n",
    "\t\n",
    "\tif len(test_data) == 0:\n",
    "\t\traise ValueError(\"test_data must not be empty\")\n",
    "\n",
    "\tif k > len(train_data):\n",
    "\t\tk = len(train_data)\n",
    "  \n",
    "\n",
    "\tfor test_element in test_data:\n",
    "\t\tfor train_element in train_data:\n",
    "\t\t\tdist = 0\n",
    "\t\t\t\n",
    "\t\t\tfor i in range(len(test_data[test_element][\"features\"])):\n",
    "\t\t\t\tdist += (test_data[test_element][\"features\"][i] - train_data[train_element][\"features\"][i]) ** 2\n",
    "    \n",
    "\t\t\ttrain_data[train_element][\"distance\"] = dist ** 0.5\n",
    "   \n",
    "\t\tk_nearest_neighboor = dict(sorted(train_data.items(), key= lambda item: item[1][\"distance\"])[:k])\n",
    "\n",
    "\t\t# count most freq label\n",
    "\t\tlabel_count = {}\n",
    "\t\tfor key in k_nearest_neighboor:\n",
    "\t\t\tlabel = k_nearest_neighboor[key][\"label\"]\n",
    "\t\t\tif label in label_count:\n",
    "\t\t\t\tlabel_count[label] += 1\n",
    "\t\t\telse:\n",
    "\t\t\t\tlabel_count[label] = 1\n",
    "    \n",
    "\t\t# get most freq label\n",
    "\t\ttest_data[test_element][\"label\"] = max(label_count, key=lambda key: label_count[key])\n",
    "\n",
    "\treturn test_data\n",
    "\n"
   ]
  },
  {
   "cell_type": "markdown",
   "metadata": {},
   "source": [
    "#### Results:"
   ]
  },
  {
   "cell_type": "code",
   "execution_count": 10,
   "metadata": {},
   "outputs": [
    {
     "data": {
      "text/plain": [
       "{'test1': {'features': [3, 3], 'label': 'A'},\n",
       " 'test2': {'features': [5, 5], 'label': 'A'}}"
      ]
     },
     "execution_count": 10,
     "metadata": {},
     "output_type": "execute_result"
    }
   ],
   "source": [
    "# Sample Train and Test Data\n",
    "train_data = {\n",
    "    \"data1\": {\"features\": [2, 3], \"label\": \"A\"},\n",
    "    \"data2\": {\"features\": [5, 4], \"label\": \"B\"},\n",
    "    \"data3\": {\"features\": [3, 1], \"label\": \"A\"},\n",
    "    \"data4\": {\"features\": [6, 7], \"label\": \"B\"},\n",
    "    \"data5\": {\"features\": [1, 2], \"label\": \"A\"},\n",
    "}\n",
    "\n",
    "test_data = {\n",
    "    \"test1\": {\"features\": [3, 3]},\n",
    "    \"test2\": {\"features\": [5, 5]},\n",
    "}\n",
    "\n",
    "# Call the KNN function\n",
    "k = 5  # Number of nearest neighbors\n",
    "knn_classifier_with_euclidian_distance(train_data, test_data, k)\n"
   ]
  },
  {
   "cell_type": "markdown",
   "metadata": {},
   "source": [
    "#### Comments:"
   ]
  },
  {
   "cell_type": "markdown",
   "metadata": {},
   "source": [
    "# Part 2"
   ]
  },
  {
   "cell_type": "code",
   "execution_count": 13,
   "metadata": {},
   "outputs": [],
   "source": [
    "# KNN regressor with manhattan distance\n",
    "\n",
    "def knn_regressor_with_manhattan_distance(train_data: {}, test_data: {}, k: int):\n",
    "\tif k < 1:\n",
    "\t\traise ValueError(\"k must be greater than 0\")\n",
    "\t\n",
    "\tif len(train_data) == 0:\n",
    "\t\traise ValueError(\"train_data must not be empty\")\n",
    "\t\n",
    "\tif len(test_data) == 0:\n",
    "\t\traise ValueError(\"test_data must not be empty\")\n",
    "\n",
    "\tif k > len(train_data):\n",
    "\t\tk = len(train_data)\n",
    "  \n",
    "\n",
    "\tfor test_element in test_data:\n",
    "\t\tfor train_element in train_data:\n",
    "\t\t\tdist = 0\n",
    "\t\t\t\n",
    "\t\t\tfor i in range(len(test_data[test_element][\"features\"])):\n",
    "\t\t\t\tdist += abs(test_data[test_element][\"features\"][i] - train_data[train_element][\"features\"][i])\n",
    "\t\t\ttrain_data[train_element][\"distance\"] = dist\n",
    "\n",
    "    \n",
    "\t\tk_nearest_neighboor = dict(sorted(train_data.items(), key= lambda item: item[1][\"distance\"])[:k])\n",
    "\n",
    "\t\t# neighbor is a key\n",
    "\t\ttest_data[test_element][\"target\"] = sum(train_data[neighbor][\"target\"] for neighbor in k_nearest_neighboor) / k\n",
    "\n",
    "\treturn test_data\n",
    "\n"
   ]
  },
  {
   "cell_type": "code",
   "execution_count": 16,
   "metadata": {},
   "outputs": [
    {
     "name": "stdout",
     "output_type": "stream",
     "text": [
      "test1: Predicted target = 20.00\n",
      "test2: Predicted target = 25.00\n"
     ]
    }
   ],
   "source": [
    "# Sample training data\n",
    "train_data = {\n",
    "    \"data1\": {\"features\": [1, 2], \"target\": 10},\n",
    "    \"data2\": {\"features\": [2, 3], \"target\": 15},\n",
    "    \"data3\": {\"features\": [3, 5], \"target\": 20},\n",
    "    \"data4\": {\"features\": [4, 6], \"target\": 25},\n",
    "    \"data5\": {\"features\": [5, 7], \"target\": 30},\n",
    "}\n",
    "\n",
    "# Test data (without target)\n",
    "test_data = {\n",
    "    \"test1\": {\"features\": [3, 4]},\n",
    "    \"test2\": {\"features\": [5, 5]},\n",
    "}\n",
    "\n",
    "# Run KNN regression with k=3\n",
    "k = 3\n",
    "predicted_test_data = knn_regressor_with_manhattan_distance(train_data, test_data, k)\n",
    "\n",
    "# Output the predictions\n",
    "for key, value in predicted_test_data.items():\n",
    "    print(f\"{key}: Predicted target = {value['target']:.2f}\")\n"
   ]
  },
  {
   "cell_type": "markdown",
   "metadata": {},
   "source": [
    "# Part 3"
   ]
  },
  {
   "cell_type": "code",
   "execution_count": null,
   "metadata": {},
   "outputs": [],
   "source": []
  }
 ],
 "metadata": {
  "kernelspec": {
   "display_name": "Python 3",
   "language": "python",
   "name": "python3"
  },
  "language_info": {
   "codemirror_mode": {
    "name": "ipython",
    "version": 3
   },
   "file_extension": ".py",
   "mimetype": "text/x-python",
   "name": "python",
   "nbconvert_exporter": "python",
   "pygments_lexer": "ipython3",
   "version": "3.12.0"
  }
 },
 "nbformat": 4,
 "nbformat_minor": 2
}
